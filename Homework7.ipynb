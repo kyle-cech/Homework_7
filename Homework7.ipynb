{
  "nbformat": 4,
  "nbformat_minor": 0,
  "metadata": {
    "colab": {
      "provenance": [],
      "authorship_tag": "ABX9TyMv7A3/amDTM37FO6lMCcnH",
      "include_colab_link": true
    },
    "kernelspec": {
      "name": "python3",
      "display_name": "Python 3"
    },
    "language_info": {
      "name": "python"
    }
  },
  "cells": [
    {
      "cell_type": "markdown",
      "metadata": {
        "id": "view-in-github",
        "colab_type": "text"
      },
      "source": [
        "<a href=\"https://colab.research.google.com/github/kyle-cech/Homework_7/blob/main/Homework7.ipynb\" target=\"_parent\"><img src=\"https://colab.research.google.com/assets/colab-badge.svg\" alt=\"Open In Colab\"/></a>"
      ]
    },
    {
      "cell_type": "code",
      "execution_count": 1,
      "metadata": {
        "id": "jFUvRRXtRT9M"
      },
      "outputs": [],
      "source": [
        "from sklearn import datasets\n",
        "from sklearn import metrics\n",
        "from sklearn.linear_model import LogisticRegression\n",
        "from sklearn.model_selection import train_test_split\n",
        "from sklearn.svm import SVC\n",
        "from sklearn.metrics import roc_curve, roc_auc_score\n",
        "import matplotlib.pyplot as plt\n",
        "iris_x, iris_y = datasets.load_iris(return_X_y=True) #load in iris data\n",
        "wine_x, wine_y = datasets.load_wine(return_X_y=True) #load in wine data"
      ]
    },
    {
      "cell_type": "code",
      "source": [
        "iris_y[iris_y > 1] = 1 #make iris y values binary, either setosa or not setosa\n",
        "train_x, test_x, train_y, test_y = train_test_split(iris_x, iris_y, test_size = .3, random_state=39) #split into 70% train and 30% test\n",
        "mod = LogisticRegression() #make logistic regression model\n",
        "mod.fit(train_x, train_y) #fit model with train data\n",
        "pred = mod.predict(test_x) #make predictions from test x values\n",
        "cf = metrics.confusion_matrix(test_y, pred) #create confusion matrix from actual and predicted values\n",
        "tp = cf[0][0] #calculate true positive\n",
        "fp = cf[1][0] #calculate false positive\n",
        "tn = cf[1][1] #calculate true negative\n",
        "fn = cf[0][1] #calculate false negative\n",
        "acc = (tp + tn) / (tp + tn + fp +fn) #find accuracy\n",
        "prec = tp / (tp + fp) #calculate precision\n",
        "rec = tp / (tp + fn) #calculate recall\n",
        "f1 = 2 * (prec * rec) / (prec + rec) #get f1 score\n",
        "fpr, tpr, thresholds = roc_curve(test_y, pred) #get false positive and true positive rates for roc curve\n",
        "auc_score = roc_auc_score(test_y, pred) #calculate area under roc curve\n",
        "plt.plot(fpr, tpr) #plot roc curve\n",
        "plt.plot([0, 1], [0, 1], linestyle='--', color='gray')\n",
        "plt.title('ROC Curve')\n",
        "plt.xlabel('False Positive Rate')\n",
        "plt.ylabel('True Positive Rate')\n",
        "print('confusion matrix:', cf, '\\naccuracy:', acc, '\\nprecision:', prec, '\\nrecall:', rec, '\\nF1-score:', f1, '\\nAUC:', auc_score)"
      ],
      "metadata": {
        "colab": {
          "base_uri": "https://localhost:8080/",
          "height": 597
        },
        "id": "NgJmED9FSySB",
        "outputId": "b9a5964b-66fa-4d50-9180-598087624e6d"
      },
      "execution_count": 2,
      "outputs": [
        {
          "output_type": "stream",
          "name": "stdout",
          "text": [
            "confusion matrix: [[14  0]\n",
            " [ 0 31]] \n",
            "accuracy: 1.0 \n",
            "precision: 1.0 \n",
            "recall: 1.0 \n",
            "F1-score: 1.0 \n",
            "AUC: 1.0\n"
          ]
        },
        {
          "output_type": "display_data",
          "data": {
            "text/plain": [
              "<Figure size 640x480 with 1 Axes>"
            ],
            "image/png": "[encoded data removed]"
          },
          "metadata": {}
        }
      ]
    },
    {
      "cell_type": "code",
      "source": [
        "\"\"\"\n",
        "This ROC curve shows that the true positive rate is always 1 with this model, meaning it predicted 100% of the flowers correctly. It does not\n",
        "depend on the false positive rate, since it is at 1 for every false positive rate value. This graph, along with the metrics calculated from the\n",
        "confusion matrix, show that the model is very accurate at predicting whether an iris flower is setosa or not.\n",
        "\"\"\""
      ],
      "metadata": {
        "colab": {
          "base_uri": "https://localhost:8080/",
          "height": 71
        },
        "id": "p24FTPeBlK-A",
        "outputId": "ba73bbb6-0069-4140-e959-ed3cee97dd0d"
      },
      "execution_count": 3,
      "outputs": [
        {
          "output_type": "execute_result",
          "data": {
            "text/plain": [
              "'\\nThis ROC curve shows that the true positive rate is always 1 with this model, meaning it predicted 100% of the flowers correctly. It does not \\ndepend on the false positive rate, since it is at 1 for every false positive rate value. This graph, along with the metrics calculated from the \\nconfusion matrix, show that the model is very accurate at predicting whether an iris flower is setosa or not.\\n'"
            ],
            "application/vnd.google.colaboratory.intrinsic+json": {
              "type": "string"
            }
          },
          "metadata": {},
          "execution_count": 3
        }
      ]
    },
    {
      "cell_type": "code",
      "source": [
        "x_train, x_test, y_train, y_test = train_test_split(wine_x, wine_y, random_state = 13) #split data into 75% train and 25% test for wine data\n",
        "lin = SVC(kernel = 'linear') #make linear model\n",
        "rbf = SVC(kernel = 'rbf') #make RBF model\n",
        "poly = SVC(kernel = 'poly') #make polynomial model\n",
        "lin.fit(x_train, y_train) #fit linear model\n",
        "rbf.fit(x_train, y_train) #fit RBF model\n",
        "poly.fit(x_train, y_train) #fit polynomial model\n",
        "lin_y = lin.predict(x_test) #predict linear model values\n",
        "rbf_y = rbf.predict(x_test) #predict RBF model values\n",
        "poly_y = poly.predict(x_test) #predict polynomial model values\n",
        "scores = {'Linear' : {}, 'RBF' : {}, 'Polynomial': {}} #make empty dictionary for the 3 model scores\n",
        "for i in [lin_y, rbf_y, poly_y]: #loop over all model predicted values and repeat process from iris model, create a confusion matrix and\n",
        "#calculate accuracy, precision, recall, and F1-score and add to score dictionary\n",
        "  con_mat = metrics.confusion_matrix(y_test, i)\n",
        "  tp = con_mat[0][0]\n",
        "  fp = con_mat[1][0]\n",
        "  tn = con_mat[1][1]\n",
        "  fn = con_mat[0][1]\n",
        "  acc = (tp + tn) / (tp + tn + fp +fn)\n",
        "  prec = tp / (tp + fp)\n",
        "  rec = tp / (tp + fn)\n",
        "  f1 = 2 * (prec * rec) / (prec + rec)\n",
        "  if scores['Linear'] == {}:\n",
        "    scores['Linear']['Accuracy'] = acc\n",
        "    scores['Linear']['Precision'] = prec\n",
        "    scores['Linear']['Recall'] = rec\n",
        "    scores['Linear']['F1-score'] = f1\n",
        "  elif scores['RBF'] == {}:\n",
        "    scores['RBF']['Accuracy'] = acc\n",
        "    scores['RBF']['Precision'] = prec\n",
        "    scores['RBF']['Recall'] = rec\n",
        "    scores['RBF']['F1-score'] = f1\n",
        "  elif scores['Polynomial'] == {}:\n",
        "    scores['Polynomial']['Accuracy'] = acc\n",
        "    scores['Polynomial']['Precision'] = prec\n",
        "    scores['Polynomial']['Recall'] = rec\n",
        "    scores['Polynomial']['F1-score'] = f1\n",
        "scores"
      ],
      "metadata": {
        "colab": {
          "base_uri": "https://localhost:8080/"
        },
        "id": "YZykGUZOeHp8",
        "outputId": "8ba74fe5-14e0-42d0-80b1-7988bcfa69f4"
      },
      "execution_count": 4,
      "outputs": [
        {
          "output_type": "execute_result",
          "data": {
            "text/plain": [
              "{'Linear': {'Accuracy': np.float64(0.9393939393939394),\n",
              "  'Precision': np.float64(0.875),\n",
              "  'Recall': np.float64(1.0),\n",
              "  'F1-score': np.float64(0.9333333333333333)},\n",
              " 'RBF': {'Accuracy': np.float64(0.9655172413793104),\n",
              "  'Precision': np.float64(0.9285714285714286),\n",
              "  'Recall': np.float64(1.0),\n",
              "  'F1-score': np.float64(0.962962962962963)},\n",
              " 'Polynomial': {'Accuracy': np.float64(0.9655172413793104),\n",
              "  'Precision': np.float64(0.9230769230769231),\n",
              "  'Recall': np.float64(1.0),\n",
              "  'F1-score': np.float64(0.9600000000000001)}}"
            ]
          },
          "metadata": {},
          "execution_count": 4
        }
      ]
    },
    {
      "cell_type": "code",
      "source": [
        "\"\"\"\n",
        "The linear, RBF, and polynomial models all resulted in high F-1 scores and a recall of 1, showing good model performance at predicting the wine region.\n",
        "However, the linear model had the lowest F-1 score, accuracy, and recall, making it the poorest model out of the 3.\n",
        "The RBF model and polynomial model gave nearly identical F1-scores of .962 and .96, respectively, and the same accuracy of .966.\n",
        "The precisions were also very similar, with RBF only having a precision that was higher by about .005. Given this, the RBF model would be the best choice,\n",
        "also given that polynomial models can sometimes have complex equations that are prone to overfitting, but both models would give extremely similar\n",
        "results when predicting what region the wine is from.\n",
        "\"\"\""
      ],
      "metadata": {
        "colab": {
          "base_uri": "https://localhost:8080/",
          "height": 107
        },
        "id": "2HHyDkx0i4wA",
        "outputId": "6ee97072-9ee6-411a-986f-4b207ed1ba23"
      },
      "execution_count": 5,
      "outputs": [
        {
          "output_type": "execute_result",
          "data": {
            "text/plain": [
              "'\\nThe linear, RBF, and polynomial models all resulted in high F-1 scores and a recall of 1, showing good model performance at predicting the wine region. \\nHowever, the linear model had the lowest F-1 score, accuracy, and recall, making it the poorest model out of the 3. \\nThe RBF model and polynomial model gave nearly identical F1-scores of .962 and .96, respectively, and the same accuracy of .966. \\nThe precisions were also very similar, with RBF only having a precision that was higher by about .005. Given this, the RBF model would be the best choice, \\nalso given that polynomial models can sometimes have complex equations that are prone to overfitting, but both models would give extremely similar \\nresults when predicting what region the wine is from. \\n'"
            ],
            "application/vnd.google.colaboratory.intrinsic+json": {
              "type": "string"
            }
          },
          "metadata": {},
          "execution_count": 5
        }
      ]
    }
  ]
}